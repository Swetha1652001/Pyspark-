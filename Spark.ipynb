{
  "nbformat": 4,
  "nbformat_minor": 0,
  "metadata": {
    "colab": {
      "provenance": [],
      "authorship_tag": "ABX9TyNv9/vR4IyyTaV6rz51faB5",
      "include_colab_link": true
    },
    "kernelspec": {
      "name": "python3",
      "display_name": "Python 3"
    },
    "language_info": {
      "name": "python"
    }
  },
  "cells": [
    {
      "cell_type": "markdown",
      "metadata": {
        "id": "view-in-github",
        "colab_type": "text"
      },
      "source": [
        "<a href=\"https://colab.research.google.com/github/Swetha1652001/Pyspark-/blob/main/Spark.ipynb\" target=\"_parent\"><img src=\"https://colab.research.google.com/assets/colab-badge.svg\" alt=\"Open In Colab\"/></a>"
      ]
    },
    {
      "cell_type": "markdown",
      "source": [
        "PySpark has been released in order to support the collaboration of Apache Spark and Python, it actually is a Python API for Spark. In addition, PySpark, helps you interface with Resilient Distributed Datasets (RDDs) in Apache Spark and Python programming language. This has been achieved by taking advantage of the Py4j library."
      ],
      "metadata": {
        "id": "eIxKO5MsFemz"
      }
    },
    {
      "cell_type": "code",
      "execution_count": 1,
      "metadata": {
        "colab": {
          "base_uri": "https://localhost:8080/"
        },
        "id": "E5nPset_3Kq8",
        "outputId": "efe15d96-f6bc-484e-bbd2-24a37234c559"
      },
      "outputs": [
        {
          "output_type": "stream",
          "name": "stdout",
          "text": [
            "Looking in indexes: https://pypi.org/simple, https://us-python.pkg.dev/colab-wheels/public/simple/\n",
            "Collecting pyspark\n",
            "  Downloading pyspark-3.3.1.tar.gz (281.4 MB)\n",
            "\u001b[2K     \u001b[90m━━━━━━━━━━━━━━━━━━━━━━━━━━━━━━━━━━━━━━━\u001b[0m \u001b[32m281.4/281.4 MB\u001b[0m \u001b[31m4.8 MB/s\u001b[0m eta \u001b[36m0:00:00\u001b[0m\n",
            "\u001b[?25h  Preparing metadata (setup.py) ... \u001b[?25l\u001b[?25hdone\n",
            "Collecting py4j==0.10.9.5\n",
            "  Downloading py4j-0.10.9.5-py2.py3-none-any.whl (199 kB)\n",
            "\u001b[2K     \u001b[90m━━━━━━━━━━━━━━━━━━━━━━━━━━━━━━━━━━━━━━\u001b[0m \u001b[32m199.7/199.7 KB\u001b[0m \u001b[31m21.9 MB/s\u001b[0m eta \u001b[36m0:00:00\u001b[0m\n",
            "\u001b[?25hBuilding wheels for collected packages: pyspark\n",
            "  Building wheel for pyspark (setup.py) ... \u001b[?25l\u001b[?25hdone\n",
            "  Created wheel for pyspark: filename=pyspark-3.3.1-py2.py3-none-any.whl size=281845512 sha256=9a04d523bdd0ea9f6f6fc1e08ad359498b8feeb637b74b3a755cdca36b7f0b16\n",
            "  Stored in directory: /root/.cache/pip/wheels/43/dc/11/ec201cd671da62fa9c5cc77078235e40722170ceba231d7598\n",
            "Successfully built pyspark\n",
            "Installing collected packages: py4j, pyspark\n",
            "Successfully installed py4j-0.10.9.5 pyspark-3.3.1\n"
          ]
        }
      ],
      "source": [
        "#installing pyspark\n",
        "!pip install pyspark"
      ]
    },
    {
      "cell_type": "code",
      "source": [
        "!pip install findspark\n",
        "#Provides findspark.init() to make pyspark importable as a regular library."
      ],
      "metadata": {
        "colab": {
          "base_uri": "https://localhost:8080/"
        },
        "id": "eQepg6Tadhkc",
        "outputId": "ec5ea17c-67cb-450f-9d70-0d7d7001f4bd"
      },
      "execution_count": 2,
      "outputs": [
        {
          "output_type": "stream",
          "name": "stdout",
          "text": [
            "Looking in indexes: https://pypi.org/simple, https://us-python.pkg.dev/colab-wheels/public/simple/\n",
            "Collecting findspark\n",
            "  Downloading findspark-2.0.1-py2.py3-none-any.whl (4.4 kB)\n",
            "Installing collected packages: findspark\n",
            "Successfully installed findspark-2.0.1\n"
          ]
        }
      ]
    },
    {
      "cell_type": "code",
      "source": [
        "#install dependencies\n",
        "import findspark\n",
        "findspark.init()\n",
        "import pyspark as ps\n",
        "import warnings\n",
        "from pyspark.sql import SQLContext"
      ],
      "metadata": {
        "id": "41LVnWy4dTCN"
      },
      "execution_count": 3,
      "outputs": []
    },
    {
      "cell_type": "code",
      "source": [
        "#create the session\n",
        "from pyspark.sql import SparkSession"
      ],
      "metadata": {
        "id": "YqY__kj53ak-"
      },
      "execution_count": 4,
      "outputs": []
    },
    {
      "cell_type": "code",
      "source": [
        "spark=SparkSession.builder.getOrCreate()"
      ],
      "metadata": {
        "id": "W4FrXhER3aPt"
      },
      "execution_count": 5,
      "outputs": []
    },
    {
      "cell_type": "code",
      "source": [
        "spark"
      ],
      "metadata": {
        "colab": {
          "base_uri": "https://localhost:8080/",
          "height": 219
        },
        "id": "PF-livimB2_c",
        "outputId": "e71a9935-d963-4803-aca3-a6316efb3367"
      },
      "execution_count": 6,
      "outputs": [
        {
          "output_type": "execute_result",
          "data": {
            "text/plain": [
              "<pyspark.sql.session.SparkSession at 0x7f37786943d0>"
            ],
            "text/html": [
              "\n",
              "            <div>\n",
              "                <p><b>SparkSession - in-memory</b></p>\n",
              "                \n",
              "        <div>\n",
              "            <p><b>SparkContext</b></p>\n",
              "\n",
              "            <p><a href=\"http://5898e31e9a5d:4040\">Spark UI</a></p>\n",
              "\n",
              "            <dl>\n",
              "              <dt>Version</dt>\n",
              "                <dd><code>v3.3.1</code></dd>\n",
              "              <dt>Master</dt>\n",
              "                <dd><code>local[*]</code></dd>\n",
              "              <dt>AppName</dt>\n",
              "                <dd><code>pyspark-shell</code></dd>\n",
              "            </dl>\n",
              "        </div>\n",
              "        \n",
              "            </div>\n",
              "        "
            ]
          },
          "metadata": {},
          "execution_count": 6
        }
      ]
    },
    {
      "cell_type": "code",
      "source": [
        "#import packages\n",
        "import pandas as pd\n",
        "import numpy as np\n"
      ],
      "metadata": {
        "id": "wS6Ddt2o3ZdG"
      },
      "execution_count": 7,
      "outputs": []
    },
    {
      "cell_type": "code",
      "source": [
        "#reading the data in pandas\n",
        "data=pd.read_csv(\"facebook_data.csv\")"
      ],
      "metadata": {
        "id": "TZGKyLzc352w"
      },
      "execution_count": 8,
      "outputs": []
    },
    {
      "cell_type": "code",
      "source": [
        "#viewing the top 5 data in the dataset\n",
        "data.head(5)"
      ],
      "metadata": {
        "colab": {
          "base_uri": "https://localhost:8080/",
          "height": 270
        },
        "id": "kVoBJ3AaBM_9",
        "outputId": "33e99c51-2897-48da-befb-54efa667ccfd"
      },
      "execution_count": 9,
      "outputs": [
        {
          "output_type": "execute_result",
          "data": {
            "text/plain": [
              "    userid  age  dob_day  dob_year  dob_month  gender  tenure  friend_count  \\\n",
              "0  2094382   14       19      1999         11    male   266.0             0   \n",
              "1  1192601   14        2      1999         11  female     6.0             0   \n",
              "2  2083884   14       16      1999         11    male    13.0             0   \n",
              "3  1203168   14       25      1999         12  female    93.0             0   \n",
              "4  1733186   14        4      1999         12    male    82.0             0   \n",
              "\n",
              "   friendships_initiated  likes  likes_received  mobile_likes  \\\n",
              "0                      0      0               0             0   \n",
              "1                      0      0               0             0   \n",
              "2                      0      0               0             0   \n",
              "3                      0      0               0             0   \n",
              "4                      0      0               0             0   \n",
              "\n",
              "   mobile_likes_received  www_likes  www_likes_received  \n",
              "0                      0          0                   0  \n",
              "1                      0          0                   0  \n",
              "2                      0          0                   0  \n",
              "3                      0          0                   0  \n",
              "4                      0          0                   0  "
            ],
            "text/html": [
              "\n",
              "  <div id=\"df-6b7f8c58-8bfc-40c8-8622-ee751b5999cc\">\n",
              "    <div class=\"colab-df-container\">\n",
              "      <div>\n",
              "<style scoped>\n",
              "    .dataframe tbody tr th:only-of-type {\n",
              "        vertical-align: middle;\n",
              "    }\n",
              "\n",
              "    .dataframe tbody tr th {\n",
              "        vertical-align: top;\n",
              "    }\n",
              "\n",
              "    .dataframe thead th {\n",
              "        text-align: right;\n",
              "    }\n",
              "</style>\n",
              "<table border=\"1\" class=\"dataframe\">\n",
              "  <thead>\n",
              "    <tr style=\"text-align: right;\">\n",
              "      <th></th>\n",
              "      <th>userid</th>\n",
              "      <th>age</th>\n",
              "      <th>dob_day</th>\n",
              "      <th>dob_year</th>\n",
              "      <th>dob_month</th>\n",
              "      <th>gender</th>\n",
              "      <th>tenure</th>\n",
              "      <th>friend_count</th>\n",
              "      <th>friendships_initiated</th>\n",
              "      <th>likes</th>\n",
              "      <th>likes_received</th>\n",
              "      <th>mobile_likes</th>\n",
              "      <th>mobile_likes_received</th>\n",
              "      <th>www_likes</th>\n",
              "      <th>www_likes_received</th>\n",
              "    </tr>\n",
              "  </thead>\n",
              "  <tbody>\n",
              "    <tr>\n",
              "      <th>0</th>\n",
              "      <td>2094382</td>\n",
              "      <td>14</td>\n",
              "      <td>19</td>\n",
              "      <td>1999</td>\n",
              "      <td>11</td>\n",
              "      <td>male</td>\n",
              "      <td>266.0</td>\n",
              "      <td>0</td>\n",
              "      <td>0</td>\n",
              "      <td>0</td>\n",
              "      <td>0</td>\n",
              "      <td>0</td>\n",
              "      <td>0</td>\n",
              "      <td>0</td>\n",
              "      <td>0</td>\n",
              "    </tr>\n",
              "    <tr>\n",
              "      <th>1</th>\n",
              "      <td>1192601</td>\n",
              "      <td>14</td>\n",
              "      <td>2</td>\n",
              "      <td>1999</td>\n",
              "      <td>11</td>\n",
              "      <td>female</td>\n",
              "      <td>6.0</td>\n",
              "      <td>0</td>\n",
              "      <td>0</td>\n",
              "      <td>0</td>\n",
              "      <td>0</td>\n",
              "      <td>0</td>\n",
              "      <td>0</td>\n",
              "      <td>0</td>\n",
              "      <td>0</td>\n",
              "    </tr>\n",
              "    <tr>\n",
              "      <th>2</th>\n",
              "      <td>2083884</td>\n",
              "      <td>14</td>\n",
              "      <td>16</td>\n",
              "      <td>1999</td>\n",
              "      <td>11</td>\n",
              "      <td>male</td>\n",
              "      <td>13.0</td>\n",
              "      <td>0</td>\n",
              "      <td>0</td>\n",
              "      <td>0</td>\n",
              "      <td>0</td>\n",
              "      <td>0</td>\n",
              "      <td>0</td>\n",
              "      <td>0</td>\n",
              "      <td>0</td>\n",
              "    </tr>\n",
              "    <tr>\n",
              "      <th>3</th>\n",
              "      <td>1203168</td>\n",
              "      <td>14</td>\n",
              "      <td>25</td>\n",
              "      <td>1999</td>\n",
              "      <td>12</td>\n",
              "      <td>female</td>\n",
              "      <td>93.0</td>\n",
              "      <td>0</td>\n",
              "      <td>0</td>\n",
              "      <td>0</td>\n",
              "      <td>0</td>\n",
              "      <td>0</td>\n",
              "      <td>0</td>\n",
              "      <td>0</td>\n",
              "      <td>0</td>\n",
              "    </tr>\n",
              "    <tr>\n",
              "      <th>4</th>\n",
              "      <td>1733186</td>\n",
              "      <td>14</td>\n",
              "      <td>4</td>\n",
              "      <td>1999</td>\n",
              "      <td>12</td>\n",
              "      <td>male</td>\n",
              "      <td>82.0</td>\n",
              "      <td>0</td>\n",
              "      <td>0</td>\n",
              "      <td>0</td>\n",
              "      <td>0</td>\n",
              "      <td>0</td>\n",
              "      <td>0</td>\n",
              "      <td>0</td>\n",
              "      <td>0</td>\n",
              "    </tr>\n",
              "  </tbody>\n",
              "</table>\n",
              "</div>\n",
              "      <button class=\"colab-df-convert\" onclick=\"convertToInteractive('df-6b7f8c58-8bfc-40c8-8622-ee751b5999cc')\"\n",
              "              title=\"Convert this dataframe to an interactive table.\"\n",
              "              style=\"display:none;\">\n",
              "        \n",
              "  <svg xmlns=\"http://www.w3.org/2000/svg\" height=\"24px\"viewBox=\"0 0 24 24\"\n",
              "       width=\"24px\">\n",
              "    <path d=\"M0 0h24v24H0V0z\" fill=\"none\"/>\n",
              "    <path d=\"M18.56 5.44l.94 2.06.94-2.06 2.06-.94-2.06-.94-.94-2.06-.94 2.06-2.06.94zm-11 1L8.5 8.5l.94-2.06 2.06-.94-2.06-.94L8.5 2.5l-.94 2.06-2.06.94zm10 10l.94 2.06.94-2.06 2.06-.94-2.06-.94-.94-2.06-.94 2.06-2.06.94z\"/><path d=\"M17.41 7.96l-1.37-1.37c-.4-.4-.92-.59-1.43-.59-.52 0-1.04.2-1.43.59L10.3 9.45l-7.72 7.72c-.78.78-.78 2.05 0 2.83L4 21.41c.39.39.9.59 1.41.59.51 0 1.02-.2 1.41-.59l7.78-7.78 2.81-2.81c.8-.78.8-2.07 0-2.86zM5.41 20L4 18.59l7.72-7.72 1.47 1.35L5.41 20z\"/>\n",
              "  </svg>\n",
              "      </button>\n",
              "      \n",
              "  <style>\n",
              "    .colab-df-container {\n",
              "      display:flex;\n",
              "      flex-wrap:wrap;\n",
              "      gap: 12px;\n",
              "    }\n",
              "\n",
              "    .colab-df-convert {\n",
              "      background-color: #E8F0FE;\n",
              "      border: none;\n",
              "      border-radius: 50%;\n",
              "      cursor: pointer;\n",
              "      display: none;\n",
              "      fill: #1967D2;\n",
              "      height: 32px;\n",
              "      padding: 0 0 0 0;\n",
              "      width: 32px;\n",
              "    }\n",
              "\n",
              "    .colab-df-convert:hover {\n",
              "      background-color: #E2EBFA;\n",
              "      box-shadow: 0px 1px 2px rgba(60, 64, 67, 0.3), 0px 1px 3px 1px rgba(60, 64, 67, 0.15);\n",
              "      fill: #174EA6;\n",
              "    }\n",
              "\n",
              "    [theme=dark] .colab-df-convert {\n",
              "      background-color: #3B4455;\n",
              "      fill: #D2E3FC;\n",
              "    }\n",
              "\n",
              "    [theme=dark] .colab-df-convert:hover {\n",
              "      background-color: #434B5C;\n",
              "      box-shadow: 0px 1px 3px 1px rgba(0, 0, 0, 0.15);\n",
              "      filter: drop-shadow(0px 1px 2px rgba(0, 0, 0, 0.3));\n",
              "      fill: #FFFFFF;\n",
              "    }\n",
              "  </style>\n",
              "\n",
              "      <script>\n",
              "        const buttonEl =\n",
              "          document.querySelector('#df-6b7f8c58-8bfc-40c8-8622-ee751b5999cc button.colab-df-convert');\n",
              "        buttonEl.style.display =\n",
              "          google.colab.kernel.accessAllowed ? 'block' : 'none';\n",
              "\n",
              "        async function convertToInteractive(key) {\n",
              "          const element = document.querySelector('#df-6b7f8c58-8bfc-40c8-8622-ee751b5999cc');\n",
              "          const dataTable =\n",
              "            await google.colab.kernel.invokeFunction('convertToInteractive',\n",
              "                                                     [key], {});\n",
              "          if (!dataTable) return;\n",
              "\n",
              "          const docLinkHtml = 'Like what you see? Visit the ' +\n",
              "            '<a target=\"_blank\" href=https://colab.research.google.com/notebooks/data_table.ipynb>data table notebook</a>'\n",
              "            + ' to learn more about interactive tables.';\n",
              "          element.innerHTML = '';\n",
              "          dataTable['output_type'] = 'display_data';\n",
              "          await google.colab.output.renderOutput(dataTable, element);\n",
              "          const docLink = document.createElement('div');\n",
              "          docLink.innerHTML = docLinkHtml;\n",
              "          element.appendChild(docLink);\n",
              "        }\n",
              "      </script>\n",
              "    </div>\n",
              "  </div>\n",
              "  "
            ]
          },
          "metadata": {},
          "execution_count": 9
        }
      ]
    },
    {
      "cell_type": "code",
      "source": [
        "#size of data\n",
        "print((data.count(), len(data.columns)))"
      ],
      "metadata": {
        "colab": {
          "base_uri": "https://localhost:8080/"
        },
        "id": "8ktSM8m-xxDz",
        "outputId": "3ce7a4e6-11c8-4500-f336-ade16393ee78"
      },
      "execution_count": 10,
      "outputs": [
        {
          "output_type": "stream",
          "name": "stdout",
          "text": [
            "(userid                   99003\n",
            "age                      99003\n",
            "dob_day                  99003\n",
            "dob_year                 99003\n",
            "dob_month                99003\n",
            "gender                   98828\n",
            "tenure                   99001\n",
            "friend_count             99003\n",
            "friendships_initiated    99003\n",
            "likes                    99003\n",
            "likes_received           99003\n",
            "mobile_likes             99003\n",
            "mobile_likes_received    99003\n",
            "www_likes                99003\n",
            "www_likes_received       99003\n",
            "dtype: int64, 15)\n"
          ]
        }
      ]
    },
    {
      "cell_type": "code",
      "source": [
        "#reading the file in spark\n",
        "df_data=spark.read.csv(\"facebook_data.csv\")"
      ],
      "metadata": {
        "id": "a0xfZW3wBRLr"
      },
      "execution_count": 11,
      "outputs": []
    },
    {
      "cell_type": "code",
      "source": [
        "df_pyspark=spark.read.option('header','true').csv(\"facebook_data.csv\",inferSchema=True)"
      ],
      "metadata": {
        "id": "-2t9jabwCUkb"
      },
      "execution_count": 12,
      "outputs": []
    },
    {
      "cell_type": "code",
      "source": [
        "type(df_pyspark)"
      ],
      "metadata": {
        "colab": {
          "base_uri": "https://localhost:8080/"
        },
        "id": "HmCa2fmPCkkf",
        "outputId": "79dd0661-06f4-41f2-a6f9-05e0f50800d8"
      },
      "execution_count": 13,
      "outputs": [
        {
          "output_type": "execute_result",
          "data": {
            "text/plain": [
              "pyspark.sql.dataframe.DataFrame"
            ]
          },
          "metadata": {},
          "execution_count": 13
        }
      ]
    },
    {
      "cell_type": "code",
      "source": [
        "df_pyspark.head(5)"
      ],
      "metadata": {
        "colab": {
          "base_uri": "https://localhost:8080/"
        },
        "id": "lBbFu4XKCpov",
        "outputId": "1c9d96a0-72f9-4395-cbeb-39d9b902e8af"
      },
      "execution_count": 14,
      "outputs": [
        {
          "output_type": "execute_result",
          "data": {
            "text/plain": [
              "[Row(userid=2094382, age=14, dob_day=19, dob_year=1999, dob_month=11, gender='male', tenure='266', friend_count=0, friendships_initiated=0, likes=0, likes_received=0, mobile_likes=0, mobile_likes_received=0, www_likes=0, www_likes_received=0),\n",
              " Row(userid=1192601, age=14, dob_day=2, dob_year=1999, dob_month=11, gender='female', tenure='6', friend_count=0, friendships_initiated=0, likes=0, likes_received=0, mobile_likes=0, mobile_likes_received=0, www_likes=0, www_likes_received=0),\n",
              " Row(userid=2083884, age=14, dob_day=16, dob_year=1999, dob_month=11, gender='male', tenure='13', friend_count=0, friendships_initiated=0, likes=0, likes_received=0, mobile_likes=0, mobile_likes_received=0, www_likes=0, www_likes_received=0),\n",
              " Row(userid=1203168, age=14, dob_day=25, dob_year=1999, dob_month=12, gender='female', tenure='93', friend_count=0, friendships_initiated=0, likes=0, likes_received=0, mobile_likes=0, mobile_likes_received=0, www_likes=0, www_likes_received=0),\n",
              " Row(userid=1733186, age=14, dob_day=4, dob_year=1999, dob_month=12, gender='male', tenure='82', friend_count=0, friendships_initiated=0, likes=0, likes_received=0, mobile_likes=0, mobile_likes_received=0, www_likes=0, www_likes_received=0)]"
            ]
          },
          "metadata": {},
          "execution_count": 14
        }
      ]
    },
    {
      "cell_type": "code",
      "source": [
        "df_pyspark.printSchema()"
      ],
      "metadata": {
        "colab": {
          "base_uri": "https://localhost:8080/"
        },
        "id": "wFfpU0CbCwZI",
        "outputId": "e3737d26-8535-457b-de0b-7c52ff09465a"
      },
      "execution_count": 15,
      "outputs": [
        {
          "output_type": "stream",
          "name": "stdout",
          "text": [
            "root\n",
            " |-- userid: integer (nullable = true)\n",
            " |-- age: integer (nullable = true)\n",
            " |-- dob_day: integer (nullable = true)\n",
            " |-- dob_year: integer (nullable = true)\n",
            " |-- dob_month: integer (nullable = true)\n",
            " |-- gender: string (nullable = true)\n",
            " |-- tenure: string (nullable = true)\n",
            " |-- friend_count: integer (nullable = true)\n",
            " |-- friendships_initiated: integer (nullable = true)\n",
            " |-- likes: integer (nullable = true)\n",
            " |-- likes_received: integer (nullable = true)\n",
            " |-- mobile_likes: integer (nullable = true)\n",
            " |-- mobile_likes_received: integer (nullable = true)\n",
            " |-- www_likes: integer (nullable = true)\n",
            " |-- www_likes_received: integer (nullable = true)\n",
            "\n"
          ]
        }
      ]
    },
    {
      "cell_type": "code",
      "source": [
        "df_pyspark.show()"
      ],
      "metadata": {
        "id": "hXx8pK1p0UVg",
        "colab": {
          "base_uri": "https://localhost:8080/"
        },
        "outputId": "533e5a47-1c99-4980-a3e4-de8e6becbe47"
      },
      "execution_count": 16,
      "outputs": [
        {
          "output_type": "stream",
          "name": "stdout",
          "text": [
            "+-------+---+-------+--------+---------+------+------+------------+---------------------+-----+--------------+------------+---------------------+---------+------------------+\n",
            "| userid|age|dob_day|dob_year|dob_month|gender|tenure|friend_count|friendships_initiated|likes|likes_received|mobile_likes|mobile_likes_received|www_likes|www_likes_received|\n",
            "+-------+---+-------+--------+---------+------+------+------------+---------------------+-----+--------------+------------+---------------------+---------+------------------+\n",
            "|2094382| 14|     19|    1999|       11|  male|   266|           0|                    0|    0|             0|           0|                    0|        0|                 0|\n",
            "|1192601| 14|      2|    1999|       11|female|     6|           0|                    0|    0|             0|           0|                    0|        0|                 0|\n",
            "|2083884| 14|     16|    1999|       11|  male|    13|           0|                    0|    0|             0|           0|                    0|        0|                 0|\n",
            "|1203168| 14|     25|    1999|       12|female|    93|           0|                    0|    0|             0|           0|                    0|        0|                 0|\n",
            "|1733186| 14|      4|    1999|       12|  male|    82|           0|                    0|    0|             0|           0|                    0|        0|                 0|\n",
            "|1524765| 14|      1|    1999|       12|  male|    15|           0|                    0|    0|             0|           0|                    0|        0|                 0|\n",
            "|1136133| 13|     14|    2000|        1|  male|    12|           0|                    0|    0|             0|           0|                    0|        0|                 0|\n",
            "|1680361| 13|      4|    2000|        1|female|     0|           0|                    0|    0|             0|           0|                    0|        0|                 0|\n",
            "|1365174| 13|      1|    2000|        1|  male|    81|           0|                    0|    0|             0|           0|                    0|        0|                 0|\n",
            "|1712567| 13|      2|    2000|        2|  male|   171|           0|                    0|    0|             0|           0|                    0|        0|                 0|\n",
            "|1612453| 13|     22|    2000|        2|  male|    98|           0|                    0|    0|             0|           0|                    0|        0|                 0|\n",
            "|2104073| 13|      1|    2000|        2|  male|    55|           0|                    0|    0|             0|           0|                    0|        0|                 0|\n",
            "|1918584| 13|      5|    2000|        3|  male|   106|           0|                    0|    0|             0|           0|                    0|        0|                 0|\n",
            "|1704433| 13|     21|    2000|        3|  male|    61|           0|                    0|    0|             0|           0|                    0|        0|                 0|\n",
            "|1932519| 13|     28|    2000|        3|female|     0|           0|                    0|    0|             0|           0|                    0|        0|                 0|\n",
            "|1751722| 13|      7|    2000|        4|female|    16|           0|                    0|    0|             0|           0|                    0|        0|                 0|\n",
            "|1470850| 13|     30|    2000|        5|female|    34|           0|                    0|    0|             0|           0|                    0|        0|                 0|\n",
            "|1001768| 13|     23|    2000|        5|female|    25|           0|                    0|    0|             0|           0|                    0|        0|                 0|\n",
            "|1537661| 13|     16|    2000|        5|female|     4|           0|                    0|    0|             0|           0|                    0|        0|                 0|\n",
            "|1020296| 13|     13|    2000|        8|  male|     9|           0|                    0|    0|             0|           0|                    0|        0|                 0|\n",
            "+-------+---+-------+--------+---------+------+------+------------+---------------------+-----+--------------+------------+---------------------+---------+------------------+\n",
            "only showing top 20 rows\n",
            "\n"
          ]
        }
      ]
    },
    {
      "cell_type": "code",
      "source": [
        "df_pyspark.dropna()\n",
        "df_pyspark.count()"
      ],
      "metadata": {
        "id": "8dLf353q0TwT",
        "colab": {
          "base_uri": "https://localhost:8080/"
        },
        "outputId": "63eba6a5-e007-45df-a05c-0974e7d76669"
      },
      "execution_count": 17,
      "outputs": [
        {
          "output_type": "execute_result",
          "data": {
            "text/plain": [
              "99003"
            ]
          },
          "metadata": {},
          "execution_count": 17
        }
      ]
    },
    {
      "cell_type": "code",
      "source": [
        "df_pyspark.describe().show()"
      ],
      "metadata": {
        "id": "paaRed3Pj4hI",
        "colab": {
          "base_uri": "https://localhost:8080/"
        },
        "outputId": "341da131-bb0d-414f-ab75-1e3de131dd4e"
      },
      "execution_count": 18,
      "outputs": [
        {
          "output_type": "stream",
          "name": "stdout",
          "text": [
            "+-------+------------------+-----------------+-----------------+-----------------+------------------+------+-----------------+------------------+---------------------+------------------+-----------------+------------------+---------------------+------------------+------------------+\n",
            "|summary|            userid|              age|          dob_day|         dob_year|         dob_month|gender|           tenure|      friend_count|friendships_initiated|             likes|   likes_received|      mobile_likes|mobile_likes_received|         www_likes|www_likes_received|\n",
            "+-------+------------------+-----------------+-----------------+-----------------+------------------+------+-----------------+------------------+---------------------+------------------+-----------------+------------------+---------------------+------------------+------------------+\n",
            "|  count|             99003|            99003|            99003|            99003|             99003| 99003|            99003|             99003|                99003|             99003|            99003|             99003|                99003|             99003|             99003|\n",
            "|   mean|1597045.2079128916|37.28022383160106|14.53040816944941|1975.719776168399| 6.283365150550994|  null|537.8873748750012| 196.3507873498783|   107.45247113723826|156.07878549134875|142.6893629485975|106.11629950607558|     84.1204912982435| 49.96242538104906| 58.56883124753795|\n",
            "| stddev|344059.17746440973|22.58974831325893|9.015606358925021|22.58974831325914|3.5296715686966302|  null|457.6498738695649|387.30422898757763|   188.78695100421174| 572.2806808445109|1387.919612505507|445.25298506801823|    839.8894437413301|285.56015186568516|  601.416348049782|\n",
            "|    min|           1000008|               13|                1|             1900|                 1|    NA|                0|                 0|                    0|                 0|                0|                 0|                    0|                 0|                 0|\n",
            "|    max|           2193542|              113|               31|             2000|                12|  male|               NA|              4923|                 4144|             25111|           261197|             25111|               138561|             14865|            129953|\n",
            "+-------+------------------+-----------------+-----------------+-----------------+------------------+------+-----------------+------------------+---------------------+------------------+-----------------+------------------+---------------------+------------------+------------------+\n",
            "\n"
          ]
        }
      ]
    },
    {
      "cell_type": "code",
      "source": [
        "#shape of the dataset\n",
        "print(\"shape of dataset:\" ,(df_pyspark.count(),len(df_pyspark.columns)))"
      ],
      "metadata": {
        "colab": {
          "base_uri": "https://localhost:8080/"
        },
        "id": "SG8DT4Gu0dS3",
        "outputId": "1d0ee9be-566e-4dc7-d8f7-a48bcdb6386e"
      },
      "execution_count": 19,
      "outputs": [
        {
          "output_type": "stream",
          "name": "stdout",
          "text": [
            "shape of dataset: (99003, 15)\n"
          ]
        }
      ]
    },
    {
      "cell_type": "code",
      "source": [
        "#select columns and row\n",
        "df_pyspark.select(['userid','age','gender','tenure']).show()"
      ],
      "metadata": {
        "colab": {
          "base_uri": "https://localhost:8080/"
        },
        "id": "towr6SyUguXt",
        "outputId": "ce8f9f47-d1cd-4b49-aa32-c7190a80f507"
      },
      "execution_count": 20,
      "outputs": [
        {
          "output_type": "stream",
          "name": "stdout",
          "text": [
            "+-------+---+------+------+\n",
            "| userid|age|gender|tenure|\n",
            "+-------+---+------+------+\n",
            "|2094382| 14|  male|   266|\n",
            "|1192601| 14|female|     6|\n",
            "|2083884| 14|  male|    13|\n",
            "|1203168| 14|female|    93|\n",
            "|1733186| 14|  male|    82|\n",
            "|1524765| 14|  male|    15|\n",
            "|1136133| 13|  male|    12|\n",
            "|1680361| 13|female|     0|\n",
            "|1365174| 13|  male|    81|\n",
            "|1712567| 13|  male|   171|\n",
            "|1612453| 13|  male|    98|\n",
            "|2104073| 13|  male|    55|\n",
            "|1918584| 13|  male|   106|\n",
            "|1704433| 13|  male|    61|\n",
            "|1932519| 13|female|     0|\n",
            "|1751722| 13|female|    16|\n",
            "|1470850| 13|female|    34|\n",
            "|1001768| 13|female|    25|\n",
            "|1537661| 13|female|     4|\n",
            "|1020296| 13|  male|     9|\n",
            "+-------+---+------+------+\n",
            "only showing top 20 rows\n",
            "\n"
          ]
        }
      ]
    },
    {
      "cell_type": "code",
      "source": [
        "df_pyspark.dtypes"
      ],
      "metadata": {
        "colab": {
          "base_uri": "https://localhost:8080/"
        },
        "id": "qKyjdnuGhaHy",
        "outputId": "b0014f86-f84b-41e8-b799-0c7d11aea3c9"
      },
      "execution_count": 21,
      "outputs": [
        {
          "output_type": "execute_result",
          "data": {
            "text/plain": [
              "[('userid', 'int'),\n",
              " ('age', 'int'),\n",
              " ('dob_day', 'int'),\n",
              " ('dob_year', 'int'),\n",
              " ('dob_month', 'int'),\n",
              " ('gender', 'string'),\n",
              " ('tenure', 'string'),\n",
              " ('friend_count', 'int'),\n",
              " ('friendships_initiated', 'int'),\n",
              " ('likes', 'int'),\n",
              " ('likes_received', 'int'),\n",
              " ('mobile_likes', 'int'),\n",
              " ('mobile_likes_received', 'int'),\n",
              " ('www_likes', 'int'),\n",
              " ('www_likes_received', 'int')]"
            ]
          },
          "metadata": {},
          "execution_count": 21
        }
      ]
    },
    {
      "cell_type": "code",
      "source": [
        "#drop columns dob_year and dob_day as we have age as a feature in the dataset already\n",
        "df_pyspark=df_pyspark.drop('dob_day','dob_year','dob_month')\n",
        "df_pyspark"
      ],
      "metadata": {
        "colab": {
          "base_uri": "https://localhost:8080/"
        },
        "id": "QjdeN25khaBY",
        "outputId": "b4fa0cc4-9008-4a2e-98c3-22a1e54179fd"
      },
      "execution_count": 22,
      "outputs": [
        {
          "output_type": "execute_result",
          "data": {
            "text/plain": [
              "DataFrame[userid: int, age: int, gender: string, tenure: string, friend_count: int, friendships_initiated: int, likes: int, likes_received: int, mobile_likes: int, mobile_likes_received: int, www_likes: int, www_likes_received: int]"
            ]
          },
          "metadata": {},
          "execution_count": 22
        }
      ]
    },
    {
      "cell_type": "code",
      "source": [
        "df_pyspark.na.drop(how='all').show()"
      ],
      "metadata": {
        "id": "uaDKDMLQj025",
        "colab": {
          "base_uri": "https://localhost:8080/"
        },
        "outputId": "8f9609e8-76aa-4e94-db30-527c5d2ce284"
      },
      "execution_count": 26,
      "outputs": [
        {
          "output_type": "stream",
          "name": "stdout",
          "text": [
            "+-------+---+------+------+------------+---------------------+-----+--------------+------------+---------------------+---------+------------------+\n",
            "| userid|age|gender|tenure|friend_count|friendships_initiated|likes|likes_received|mobile_likes|mobile_likes_received|www_likes|www_likes_received|\n",
            "+-------+---+------+------+------------+---------------------+-----+--------------+------------+---------------------+---------+------------------+\n",
            "|2094382| 14|  male|   266|           0|                    0|    0|             0|           0|                    0|        0|                 0|\n",
            "|1192601| 14|female|     6|           0|                    0|    0|             0|           0|                    0|        0|                 0|\n",
            "|2083884| 14|  male|    13|           0|                    0|    0|             0|           0|                    0|        0|                 0|\n",
            "|1203168| 14|female|    93|           0|                    0|    0|             0|           0|                    0|        0|                 0|\n",
            "|1733186| 14|  male|    82|           0|                    0|    0|             0|           0|                    0|        0|                 0|\n",
            "|1524765| 14|  male|    15|           0|                    0|    0|             0|           0|                    0|        0|                 0|\n",
            "|1136133| 13|  male|    12|           0|                    0|    0|             0|           0|                    0|        0|                 0|\n",
            "|1680361| 13|female|     0|           0|                    0|    0|             0|           0|                    0|        0|                 0|\n",
            "|1365174| 13|  male|    81|           0|                    0|    0|             0|           0|                    0|        0|                 0|\n",
            "|1712567| 13|  male|   171|           0|                    0|    0|             0|           0|                    0|        0|                 0|\n",
            "|1612453| 13|  male|    98|           0|                    0|    0|             0|           0|                    0|        0|                 0|\n",
            "|2104073| 13|  male|    55|           0|                    0|    0|             0|           0|                    0|        0|                 0|\n",
            "|1918584| 13|  male|   106|           0|                    0|    0|             0|           0|                    0|        0|                 0|\n",
            "|1704433| 13|  male|    61|           0|                    0|    0|             0|           0|                    0|        0|                 0|\n",
            "|1932519| 13|female|     0|           0|                    0|    0|             0|           0|                    0|        0|                 0|\n",
            "|1751722| 13|female|    16|           0|                    0|    0|             0|           0|                    0|        0|                 0|\n",
            "|1470850| 13|female|    34|           0|                    0|    0|             0|           0|                    0|        0|                 0|\n",
            "|1001768| 13|female|    25|           0|                    0|    0|             0|           0|                    0|        0|                 0|\n",
            "|1537661| 13|female|     4|           0|                    0|    0|             0|           0|                    0|        0|                 0|\n",
            "|1020296| 13|  male|     9|           0|                    0|    0|             0|           0|                    0|        0|                 0|\n",
            "+-------+---+------+------+------------+---------------------+-----+--------------+------------+---------------------+---------+------------------+\n",
            "only showing top 20 rows\n",
            "\n"
          ]
        }
      ]
    },
    {
      "cell_type": "code",
      "source": [
        "df_pyspark.na.drop(how='any',thresh=1).show(3)"
      ],
      "metadata": {
        "id": "0OgLwPophZ-l",
        "colab": {
          "base_uri": "https://localhost:8080/"
        },
        "outputId": "ec8173c8-c264-4611-ee93-e0981b8ea003"
      },
      "execution_count": 81,
      "outputs": [
        {
          "output_type": "stream",
          "name": "stdout",
          "text": [
            "+-------+---+------+------+------------+---------------------+-----+--------------+------------+---------------------+---------+------------------+\n",
            "| userid|age|gender|tenure|friend_count|friendships_initiated|likes|likes_received|mobile_likes|mobile_likes_received|www_likes|www_likes_received|\n",
            "+-------+---+------+------+------------+---------------------+-----+--------------+------------+---------------------+---------+------------------+\n",
            "|2094382| 14|  male| 266.0|           0|                    0|    0|             0|           0|                    0|        0|                 0|\n",
            "|1192601| 14|female|   6.0|           0|                    0|    0|             0|           0|                    0|        0|                 0|\n",
            "|2083884| 14|  male|  13.0|           0|                    0|    0|             0|           0|                    0|        0|                 0|\n",
            "+-------+---+------+------+------------+---------------------+-----+--------------+------------+---------------------+---------+------------------+\n",
            "only showing top 3 rows\n",
            "\n"
          ]
        }
      ]
    },
    {
      "cell_type": "code",
      "source": [
        "print(\"shape of dataset:\" ,(df_pyspark.count(),len(df_pyspark.columns)))"
      ],
      "metadata": {
        "id": "Z9-XLBh6hZ8C",
        "colab": {
          "base_uri": "https://localhost:8080/"
        },
        "outputId": "ff318e6b-de22-4a0b-b69a-b0aea9c1cb2d"
      },
      "execution_count": 82,
      "outputs": [
        {
          "output_type": "stream",
          "name": "stdout",
          "text": [
            "shape of dataset: (99003, 12)\n"
          ]
        }
      ]
    },
    {
      "cell_type": "code",
      "source": [
        "df_pyspark.na.drop(how='any',subset=['gender']).show(2)"
      ],
      "metadata": {
        "id": "mu86935ohZ5H",
        "colab": {
          "base_uri": "https://localhost:8080/"
        },
        "outputId": "2ce31679-29b8-4091-861a-97d0bf7bf2ed"
      },
      "execution_count": 84,
      "outputs": [
        {
          "output_type": "stream",
          "name": "stdout",
          "text": [
            "+-------+---+------+------+------------+---------------------+-----+--------------+------------+---------------------+---------+------------------+\n",
            "| userid|age|gender|tenure|friend_count|friendships_initiated|likes|likes_received|mobile_likes|mobile_likes_received|www_likes|www_likes_received|\n",
            "+-------+---+------+------+------------+---------------------+-----+--------------+------------+---------------------+---------+------------------+\n",
            "|2094382| 14|  male| 266.0|           0|                    0|    0|             0|           0|                    0|        0|                 0|\n",
            "|1192601| 14|female|   6.0|           0|                    0|    0|             0|           0|                    0|        0|                 0|\n",
            "+-------+---+------+------+------------+---------------------+-----+--------------+------------+---------------------+---------+------------------+\n",
            "only showing top 2 rows\n",
            "\n"
          ]
        }
      ]
    },
    {
      "cell_type": "code",
      "source": [
        "#imputer fn to replace null values with mean\n",
        "from pyspark.ml.feature import Imputer\n",
        "\n",
        "imputer=Imputer(\n",
        "    inputCols=['age','tenure'],\n",
        "    outputCols=['{}_imputed'.format(c) for c in ['age','tenure']]\n",
        ").setStrategy(\"mean\")\n"
      ],
      "metadata": {
        "id": "tc_4_z2vhZ2h"
      },
      "execution_count": 85,
      "outputs": []
    },
    {
      "cell_type": "code",
      "source": [
        "#changing datatype of tenure from string to int to fit the model\n",
        "df_pyspark = df_pyspark.withColumn(\"tenure\", df_pyspark.tenure.cast('float'))"
      ],
      "metadata": {
        "id": "vBrdR-3twqF0"
      },
      "execution_count": 86,
      "outputs": []
    },
    {
      "cell_type": "code",
      "source": [
        "imputer.fit(df_pyspark).transform(df_pyspark).show()"
      ],
      "metadata": {
        "id": "sNicHLgWhZnV",
        "colab": {
          "base_uri": "https://localhost:8080/"
        },
        "outputId": "7c2ae97f-adc1-4b2a-c091-182deef60515"
      },
      "execution_count": 87,
      "outputs": [
        {
          "output_type": "stream",
          "name": "stdout",
          "text": [
            "+-------+---+------+------+------------+---------------------+-----+--------------+------------+---------------------+---------+------------------+-----------+--------------+\n",
            "| userid|age|gender|tenure|friend_count|friendships_initiated|likes|likes_received|mobile_likes|mobile_likes_received|www_likes|www_likes_received|age_imputed|tenure_imputed|\n",
            "+-------+---+------+------+------------+---------------------+-----+--------------+------------+---------------------+---------+------------------+-----------+--------------+\n",
            "|2094382| 14|  male| 266.0|           0|                    0|    0|             0|           0|                    0|        0|                 0|         14|         266.0|\n",
            "|1192601| 14|female|   6.0|           0|                    0|    0|             0|           0|                    0|        0|                 0|         14|           6.0|\n",
            "|2083884| 14|  male|  13.0|           0|                    0|    0|             0|           0|                    0|        0|                 0|         14|          13.0|\n",
            "|1203168| 14|female|  93.0|           0|                    0|    0|             0|           0|                    0|        0|                 0|         14|          93.0|\n",
            "|1733186| 14|  male|  82.0|           0|                    0|    0|             0|           0|                    0|        0|                 0|         14|          82.0|\n",
            "|1524765| 14|  male|  15.0|           0|                    0|    0|             0|           0|                    0|        0|                 0|         14|          15.0|\n",
            "|1136133| 13|  male|  12.0|           0|                    0|    0|             0|           0|                    0|        0|                 0|         13|          12.0|\n",
            "|1680361| 13|female|   0.0|           0|                    0|    0|             0|           0|                    0|        0|                 0|         13|           0.0|\n",
            "|1365174| 13|  male|  81.0|           0|                    0|    0|             0|           0|                    0|        0|                 0|         13|          81.0|\n",
            "|1712567| 13|  male| 171.0|           0|                    0|    0|             0|           0|                    0|        0|                 0|         13|         171.0|\n",
            "|1612453| 13|  male|  98.0|           0|                    0|    0|             0|           0|                    0|        0|                 0|         13|          98.0|\n",
            "|2104073| 13|  male|  55.0|           0|                    0|    0|             0|           0|                    0|        0|                 0|         13|          55.0|\n",
            "|1918584| 13|  male| 106.0|           0|                    0|    0|             0|           0|                    0|        0|                 0|         13|         106.0|\n",
            "|1704433| 13|  male|  61.0|           0|                    0|    0|             0|           0|                    0|        0|                 0|         13|          61.0|\n",
            "|1932519| 13|female|   0.0|           0|                    0|    0|             0|           0|                    0|        0|                 0|         13|           0.0|\n",
            "|1751722| 13|female|  16.0|           0|                    0|    0|             0|           0|                    0|        0|                 0|         13|          16.0|\n",
            "|1470850| 13|female|  34.0|           0|                    0|    0|             0|           0|                    0|        0|                 0|         13|          34.0|\n",
            "|1001768| 13|female|  25.0|           0|                    0|    0|             0|           0|                    0|        0|                 0|         13|          25.0|\n",
            "|1537661| 13|female|   4.0|           0|                    0|    0|             0|           0|                    0|        0|                 0|         13|           4.0|\n",
            "|1020296| 13|  male|   9.0|           0|                    0|    0|             0|           0|                    0|        0|                 0|         13|           9.0|\n",
            "+-------+---+------+------+------------+---------------------+-----+--------------+------------+---------------------+---------+------------------+-----------+--------------+\n",
            "only showing top 20 rows\n",
            "\n"
          ]
        }
      ]
    },
    {
      "cell_type": "code",
      "source": [
        "#filter\n",
        "df_pyspark.filter(\"age<=18\").select(['userid','gender']).count()"
      ],
      "metadata": {
        "colab": {
          "base_uri": "https://localhost:8080/"
        },
        "id": "leg4u7nQyArE",
        "outputId": "32992641-fa8f-4ff3-8ed7-19f075a1b17d"
      },
      "execution_count": 104,
      "outputs": [
        {
          "output_type": "execute_result",
          "data": {
            "text/plain": [
              "16592"
            ]
          },
          "metadata": {},
          "execution_count": 104
        }
      ]
    },
    {
      "cell_type": "code",
      "source": [
        "df_pyspark.filter((df_pyspark['age']<=18) & \n",
        "                  (df_pyspark['tenure']>=100)).count()"
      ],
      "metadata": {
        "colab": {
          "base_uri": "https://localhost:8080/"
        },
        "id": "lEyeOuEGyAoK",
        "outputId": "9341bd05-6531-418c-acd9-0244fe529936"
      },
      "execution_count": 103,
      "outputs": [
        {
          "output_type": "execute_result",
          "data": {
            "text/plain": [
              "14092"
            ]
          },
          "metadata": {},
          "execution_count": 103
        }
      ]
    },
    {
      "cell_type": "code",
      "source": [
        "#inverse filter operation\n",
        "df_pyspark.filter(~\n",
        "                  (df_pyspark['age']<=18) & \n",
        "                  (df_pyspark['tenure']>=100)).count()"
      ],
      "metadata": {
        "colab": {
          "base_uri": "https://localhost:8080/"
        },
        "id": "4HaHEVuqyAlX",
        "outputId": "64cc0bdb-13c6-408b-d025-b33cddfefe97"
      },
      "execution_count": 102,
      "outputs": [
        {
          "output_type": "execute_result",
          "data": {
            "text/plain": [
              "74872"
            ]
          },
          "metadata": {},
          "execution_count": 102
        }
      ]
    },
    {
      "cell_type": "code",
      "source": [
        "#pyspark group by and aggregate fn\n",
        "#group to find max likes\n",
        "df_pyspark.groupby('gender').count().show()\n"
      ],
      "metadata": {
        "colab": {
          "base_uri": "https://localhost:8080/"
        },
        "id": "Scy2Y_5tyAiI",
        "outputId": "10903e6d-8a7f-4445-cd5e-46c40c9b889b"
      },
      "execution_count": 92,
      "outputs": [
        {
          "output_type": "stream",
          "name": "stdout",
          "text": [
            "+------+-----+\n",
            "|gender|count|\n",
            "+------+-----+\n",
            "|    NA|  175|\n",
            "|female|40254|\n",
            "|  male|58574|\n",
            "+------+-----+\n",
            "\n"
          ]
        }
      ]
    },
    {
      "cell_type": "code",
      "source": [
        "df_pyspark.groupby('age').count().show()"
      ],
      "metadata": {
        "colab": {
          "base_uri": "https://localhost:8080/"
        },
        "id": "ogqU7_0a-3kC",
        "outputId": "fa25461f-c965-418e-d367-d621340af486"
      },
      "execution_count": 106,
      "outputs": [
        {
          "output_type": "stream",
          "name": "stdout",
          "text": [
            "+---+-----+\n",
            "|age|count|\n",
            "+---+-----+\n",
            "| 31| 1694|\n",
            "| 85|   83|\n",
            "| 65|  693|\n",
            "| 53| 1192|\n",
            "| 78|  162|\n",
            "|108| 1661|\n",
            "| 34| 1257|\n",
            "|101|  157|\n",
            "| 81|  108|\n",
            "| 28| 2364|\n",
            "| 76|  178|\n",
            "| 26| 2815|\n",
            "| 27| 2240|\n",
            "| 44|  877|\n",
            "|103| 1044|\n",
            "| 91|   76|\n",
            "| 22| 3032|\n",
            "| 93|  203|\n",
            "|111|   18|\n",
            "| 47|  902|\n",
            "+---+-----+\n",
            "only showing top 20 rows\n",
            "\n"
          ]
        }
      ]
    },
    {
      "cell_type": "code",
      "source": [
        "df_pyspark.groupby('gender').max().show()"
      ],
      "metadata": {
        "colab": {
          "base_uri": "https://localhost:8080/"
        },
        "id": "gvOti81PyAbC",
        "outputId": "057bfb86-05db-438a-ad8e-800bc09f5209"
      },
      "execution_count": 95,
      "outputs": [
        {
          "output_type": "stream",
          "name": "stdout",
          "text": [
            "+------+-----------+--------+-----------+-----------------+--------------------------+----------+-------------------+-----------------+--------------------------+--------------+-----------------------+\n",
            "|gender|max(userid)|max(age)|max(tenure)|max(friend_count)|max(friendships_initiated)|max(likes)|max(likes_received)|max(mobile_likes)|max(mobile_likes_received)|max(www_likes)|max(www_likes_received)|\n",
            "+------+-----------+--------+-----------+-----------------+--------------------------+----------+-------------------+-----------------+--------------------------+--------------+-----------------------+\n",
            "|    NA|    2193243|     113|     2594.0|             2548|                      1130|      3372|               4993|             2348|                      3126|          1145|                   1867|\n",
            "|female|    2193538|     113|     3129.0|             4923|                      3654|     16732|             261197|            16732|                    138561|         14865|                 129953|\n",
            "|  male|    2193542|     113|     3139.0|             4917|                      4144|     25111|              82623|            25111|                     43410|         12903|                  39213|\n",
            "+------+-----------+--------+-----------+-----------------+--------------------------+----------+-------------------+-----------------+--------------------------+--------------+-----------------------+\n",
            "\n"
          ]
        }
      ]
    },
    {
      "cell_type": "code",
      "source": [
        "df_pyspark.groupby('gender').min().show()"
      ],
      "metadata": {
        "colab": {
          "base_uri": "https://localhost:8080/"
        },
        "id": "a5CW9fmQC_4B",
        "outputId": "e6554ed2-99c6-4319-eb1f-ee9dd162a178"
      },
      "execution_count": 96,
      "outputs": [
        {
          "output_type": "stream",
          "name": "stdout",
          "text": [
            "+------+-----------+--------+-----------+-----------------+--------------------------+----------+-------------------+-----------------+--------------------------+--------------+-----------------------+\n",
            "|gender|min(userid)|min(age)|min(tenure)|min(friend_count)|min(friendships_initiated)|min(likes)|min(likes_received)|min(mobile_likes)|min(mobile_likes_received)|min(www_likes)|min(www_likes_received)|\n",
            "+------+-----------+--------+-----------+-----------------+--------------------------+----------+-------------------+-----------------+--------------------------+--------------+-----------------------+\n",
            "|    NA|    1004980|      15|      185.0|                1|                         0|         0|                  0|                0|                         0|             0|                      0|\n",
            "|female|    1000008|      13|        0.0|                0|                         0|         0|                  0|                0|                         0|             0|                      0|\n",
            "|  male|    1000038|      13|        0.0|                0|                         0|         0|                  0|                0|                         0|             0|                      0|\n",
            "+------+-----------+--------+-----------+-----------------+--------------------------+----------+-------------------+-----------------+--------------------------+--------------+-----------------------+\n",
            "\n"
          ]
        }
      ]
    },
    {
      "cell_type": "code",
      "source": [
        "df_pyspark.agg({'likes':'max'}).show()"
      ],
      "metadata": {
        "colab": {
          "base_uri": "https://localhost:8080/"
        },
        "id": "snT8UrDZyAKs",
        "outputId": "27188552-24b8-45a7-bb0d-170070729fe1"
      },
      "execution_count": 99,
      "outputs": [
        {
          "output_type": "stream",
          "name": "stdout",
          "text": [
            "+----------+\n",
            "|max(likes)|\n",
            "+----------+\n",
            "|     25111|\n",
            "+----------+\n",
            "\n"
          ]
        }
      ]
    },
    {
      "cell_type": "code",
      "source": [
        "df_pyspark.agg({'likes_received':'max'}).show()"
      ],
      "metadata": {
        "colab": {
          "base_uri": "https://localhost:8080/"
        },
        "id": "J8ZzwPS8CAGa",
        "outputId": "49e80565-0d07-4e68-b6b8-977da2fdf573"
      },
      "execution_count": 101,
      "outputs": [
        {
          "output_type": "stream",
          "name": "stdout",
          "text": [
            "+-------------------+\n",
            "|max(likes_received)|\n",
            "+-------------------+\n",
            "|             261197|\n",
            "+-------------------+\n",
            "\n"
          ]
        }
      ]
    },
    {
      "cell_type": "code",
      "source": [
        "df_pyspark.agg({'friend_count':'sum'}).show()"
      ],
      "metadata": {
        "colab": {
          "base_uri": "https://localhost:8080/"
        },
        "id": "MdxtIycsCADP",
        "outputId": "edcdfaf0-f43b-4a2b-9962-e99d000025f0"
      },
      "execution_count": 70,
      "outputs": [
        {
          "output_type": "stream",
          "name": "stdout",
          "text": [
            "+-----------------+\n",
            "|sum(friend_count)|\n",
            "+-----------------+\n",
            "|         19439317|\n",
            "+-----------------+\n",
            "\n"
          ]
        }
      ]
    },
    {
      "cell_type": "code",
      "source": [
        "df_pyspark.agg({'friendships_initiated':'sum'}).show()"
      ],
      "metadata": {
        "colab": {
          "base_uri": "https://localhost:8080/"
        },
        "id": "_JSQ1BIRCAAL",
        "outputId": "aa0c1580-06db-479d-8396-bcc9614ef2bf"
      },
      "execution_count": 71,
      "outputs": [
        {
          "output_type": "stream",
          "name": "stdout",
          "text": [
            "+--------------------------+\n",
            "|sum(friendships_initiated)|\n",
            "+--------------------------+\n",
            "|                  10638117|\n",
            "+--------------------------+\n",
            "\n"
          ]
        }
      ]
    },
    {
      "cell_type": "code",
      "source": [
        "df_pyspark.agg({'mobile_likes':'sum'}).show()"
      ],
      "metadata": {
        "colab": {
          "base_uri": "https://localhost:8080/"
        },
        "id": "RhpDVvK4B_8E",
        "outputId": "b9fb464a-8b37-4841-a9d7-bacf06c16397"
      },
      "execution_count": 72,
      "outputs": [
        {
          "output_type": "stream",
          "name": "stdout",
          "text": [
            "+-----------------+\n",
            "|sum(mobile_likes)|\n",
            "+-----------------+\n",
            "|         10505832|\n",
            "+-----------------+\n",
            "\n"
          ]
        }
      ]
    },
    {
      "cell_type": "code",
      "source": [
        "df_pyspark.agg({'mobile_likes_received':'sum'}).show()"
      ],
      "metadata": {
        "colab": {
          "base_uri": "https://localhost:8080/"
        },
        "id": "f95j0AGaB_vU",
        "outputId": "62a1e2ae-d566-47df-b2b0-a0eca9993f2d"
      },
      "execution_count": 73,
      "outputs": [
        {
          "output_type": "stream",
          "name": "stdout",
          "text": [
            "+--------------------------+\n",
            "|sum(mobile_likes_received)|\n",
            "+--------------------------+\n",
            "|                   8328181|\n",
            "+--------------------------+\n",
            "\n"
          ]
        }
      ]
    },
    {
      "cell_type": "code",
      "source": [
        "df_pyspark.agg({'www_likes':'sum'}).show()"
      ],
      "metadata": {
        "colab": {
          "base_uri": "https://localhost:8080/"
        },
        "id": "WkktGkIzCo41",
        "outputId": "960c32de-b00c-45cd-9efc-0871cbf5ec6b"
      },
      "execution_count": 75,
      "outputs": [
        {
          "output_type": "stream",
          "name": "stdout",
          "text": [
            "+--------------+\n",
            "|sum(www_likes)|\n",
            "+--------------+\n",
            "|       4946430|\n",
            "+--------------+\n",
            "\n"
          ]
        }
      ]
    },
    {
      "cell_type": "code",
      "source": [
        "df_pyspark.agg({'www_likes_received':'sum'}).show()"
      ],
      "metadata": {
        "colab": {
          "base_uri": "https://localhost:8080/"
        },
        "id": "y5Vubhf5Cq9W",
        "outputId": "c6d4a334-afa5-45a8-cf8c-35534e8638b1"
      },
      "execution_count": 77,
      "outputs": [
        {
          "output_type": "stream",
          "name": "stdout",
          "text": [
            "+-----------------------+\n",
            "|sum(www_likes_received)|\n",
            "+-----------------------+\n",
            "|                5798490|\n",
            "+-----------------------+\n",
            "\n"
          ]
        }
      ]
    },
    {
      "cell_type": "code",
      "source": [],
      "metadata": {
        "id": "3kYkmrDX3fs6"
      },
      "execution_count": 23,
      "outputs": []
    },
    {
      "cell_type": "code",
      "source": [],
      "metadata": {
        "id": "dkbBX0dk3fRV"
      },
      "execution_count": 23,
      "outputs": []
    },
    {
      "cell_type": "code",
      "source": [],
      "metadata": {
        "id": "guGyJSnP3e-l"
      },
      "execution_count": 23,
      "outputs": []
    },
    {
      "cell_type": "code",
      "source": [],
      "metadata": {
        "id": "gOAkfjfl3elD"
      },
      "execution_count": 23,
      "outputs": []
    },
    {
      "cell_type": "code",
      "source": [],
      "metadata": {
        "id": "dyAcoC8jzQTx"
      },
      "execution_count": 24,
      "outputs": []
    },
    {
      "cell_type": "code",
      "source": [],
      "metadata": {
        "id": "FVouqP6MzQPs"
      },
      "execution_count": 24,
      "outputs": []
    },
    {
      "cell_type": "code",
      "source": [],
      "metadata": {
        "id": "zW1OXAZHzQMd"
      },
      "execution_count": 24,
      "outputs": []
    },
    {
      "cell_type": "code",
      "source": [],
      "metadata": {
        "id": "5Bov89rGzQH8"
      },
      "execution_count": 24,
      "outputs": []
    },
    {
      "cell_type": "code",
      "source": [],
      "metadata": {
        "id": "PfiE0w9xzQEF"
      },
      "execution_count": 24,
      "outputs": []
    },
    {
      "cell_type": "code",
      "source": [],
      "metadata": {
        "id": "LtLocUGQzQBI"
      },
      "execution_count": 24,
      "outputs": []
    },
    {
      "cell_type": "code",
      "source": [],
      "metadata": {
        "id": "Yh84kn2JzPvv"
      },
      "execution_count": 24,
      "outputs": []
    }
  ]
}